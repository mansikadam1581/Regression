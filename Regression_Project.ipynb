{
 "cells": [
  {
   "cell_type": "code",
   "execution_count": 30,
   "id": "fff650d1",
   "metadata": {},
   "outputs": [],
   "source": [
    "%matplotlib qt"
   ]
  },
  {
   "cell_type": "code",
   "execution_count": 31,
   "id": "2cb6a1ba",
   "metadata": {},
   "outputs": [],
   "source": [
    "from scipy.io import loadmat\n",
    "\n",
    "bs_all = [\n",
    "    'B0005',\n",
    "    'B0006',\n",
    "    'B0007',\n",
    "    'B0018',\n",
    "    'B0025',\n",
    "    'B0026',\n",
    "    'B0027',\n",
    "    'B0028',\n",
    "    'B0029',\n",
    "    'B0030',\n",
    "    'B0031',\n",
    "    'B0032',\n",
    "    'B0033',\n",
    "    'B0034',\n",
    "    'B0036',\n",
    "    'B0038',\n",
    "    'B0039',\n",
    "    'B0040',\n",
    "    'B0041',\n",
    "    'B0042',\n",
    "    'B0043',\n",
    "    'B0044',\n",
    "    'B0045',\n",
    "    'B0046',\n",
    "    'B0047',\n",
    "    'B0048',\n",
    "    'B0049',\n",
    "    'B0050',\n",
    "    'B0051',\n",
    "    'B0052',\n",
    "    'B0053',\n",
    "    'B0054',\n",
    "    'B0055',\n",
    "    'B0056',\n",
    "]\n",
    "\n",
    "bs = [\n",
    "    'B0005',\n",
    "    'B0006',\n",
    "    'B0007',\n",
    "    'B0018'\n",
    "]\n",
    "\n",
    "ds = []\n",
    "for b in bs:\n",
    "    ds.append(loadmat(f'DATA/{b}.mat'))"
   ]
  },
  {
   "cell_type": "code",
   "execution_count": 32,
   "id": "8caaf967",
   "metadata": {},
   "outputs": [],
   "source": [
    "types = []\n",
    "times = []\n",
    "ambient_temperatures = []\n",
    "datas = []\n",
    "\n",
    "for i in range(len(ds)):\n",
    "    x = ds[i][bs[i]][\"cycle\"][0][0][0]\n",
    "    ambient_temperatures.append(x['ambient_temperature'])\n",
    "    types.append(x['type'])\n",
    "    times.append(x['time'])\n",
    "    datas.append(x['data'])"
   ]
  },
  {
   "cell_type": "code",
   "execution_count": 33,
   "id": "1819c9c9",
   "metadata": {},
   "outputs": [
    {
     "name": "stdout",
     "output_type": "stream",
     "text": [
      "Battery: B0005\n",
      "Cycles: 616\n",
      "\n",
      "Battery: B0006\n",
      "Cycles: 616\n",
      "\n",
      "Battery: B0007\n",
      "Cycles: 616\n",
      "\n",
      "Battery: B0018\n",
      "Cycles: 319\n",
      "\n"
     ]
    }
   ],
   "source": [
    "for i in range(len(ds)):\n",
    "    print(f'Battery: {bs[i]}')\n",
    "    print(f'Cycles: {datas[i].size}')\n",
    "    print()"
   ]
  },
  {
   "cell_type": "code",
   "execution_count": 34,
   "id": "dc87cdf0",
   "metadata": {},
   "outputs": [],
   "source": [
    "import matplotlib.pyplot as plt\n",
    "import numpy as np"
   ]
  },
  {
   "cell_type": "markdown",
   "id": "21cf5cf7",
   "metadata": {},
   "source": [
    "# CHARGE ALL CYCLES"
   ]
  },
  {
   "cell_type": "code",
   "execution_count": 35,
   "id": "8995d350",
   "metadata": {},
   "outputs": [],
   "source": [
    "params = ['Voltage_measured', 'Current_measured', 'Temperature_measured', 'Current_charge', 'Voltage_charge']\n",
    "\n",
    "for p in params:\n",
    "    fig, axs = plt.subplots((len(bs) + 1) // 2, 2)\n",
    "    param = p\n",
    "    for i in range(len(bs)):\n",
    "        for j in range(datas[i].size):\n",
    "            if types[i][j] == 'charge':\n",
    "\n",
    "                if i % 2 == 0:\n",
    "                    axs[i // 2, 0].plot(datas[i][j]['Time'][0][0][0], datas[i][j][param][0][0][0])\n",
    "                    axs[i // 2, 0].set_title(f'Battery: {bs[i]}')\n",
    "                else:\n",
    "                    axs[i // 2, 1].plot(datas[i][j]['Time'][0][0][0], datas[i][j][param][0][0][0])\n",
    "                    axs[i // 2, 1].set_title(f'Battery: {bs[i]}')\n",
    "    for ax in axs.flat:\n",
    "        ax.set(ylabel = param, xlabel = 'Time')\n",
    "    fig.tight_layout(pad = 0.3)\n",
    "    fig.savefig(f'PLOTS/Charge/All/{p}_all.png')"
   ]
  },
  {
   "cell_type": "markdown",
   "id": "443fe5e8",
   "metadata": {},
   "source": [
    "# CHARGE FIRST AND LAST CYCLES"
   ]
  },
  {
   "cell_type": "code",
   "execution_count": 36,
   "id": "e2d6f103",
   "metadata": {},
   "outputs": [],
   "source": [
    "for p in params:\n",
    "    \n",
    "    # Printing first cycles\n",
    "    \n",
    "    fig, axs = plt.subplots((len(bs) + 1) // 2, 2)\n",
    "    param = p\n",
    "    for i in range(len(bs)):\n",
    "        for j in range(20):\n",
    "            if types[i][j] == 'charge':\n",
    "                if i % 2 == 0:\n",
    "                    axs[i // 2, 0].plot(datas[i][j]['Time'][0][0][0], datas[i][j][param][0][0][0], label = f'{j + 1}')\n",
    "                    axs[i // 2, 0].set_title(f'Battery: {bs[i]}')\n",
    "                    axs[i // 2, 0].legend()\n",
    "                else:\n",
    "                    axs[i // 2, 1].plot(datas[i][j]['Time'][0][0][0], datas[i][j][param][0][0][0], label = f'{j + 1}')\n",
    "                    axs[i // 2, 1].set_title(f'Battery: {bs[i]}')\n",
    "                    axs[i // 2, 1].legend()\n",
    "    for ax in axs.flat:\n",
    "        ax.set(ylabel = param, xlabel = 'Time')\n",
    "    fig.tight_layout(pad = 0.3)\n",
    "    fig.savefig(f'PLOTS/Charge/First/{p}_first.png')\n",
    "    # Printing last cycles\n",
    "\n",
    "    fig, axs = plt.subplots((len(bs) + 1) // 2, 2)\n",
    "    for i in range(len(bs)):\n",
    "        for j in range(datas[i].size - 20, datas[i].size):\n",
    "            if types[i][j] == 'charge':\n",
    "                if i % 2 == 0:\n",
    "                    axs[i // 2, 0].plot(datas[i][j]['Time'][0][0][0], datas[i][j][param][0][0][0], label = f'{j + 1}')\n",
    "                    axs[i // 2, 0].set_title(f'Battery: {bs[i]}')\n",
    "                    axs[i // 2, 0].legend()\n",
    "                else:\n",
    "                    axs[i // 2, 1].plot(datas[i][j]['Time'][0][0][0], datas[i][j][param][0][0][0], label = f'{j + 1}')\n",
    "                    axs[i // 2, 1].set_title(f'Battery: {bs[i]}')\n",
    "                    axs[i // 2, 1].legend()\n",
    "\n",
    "    for ax in axs.flat:\n",
    "        ax.set(ylabel = param, xlabel = 'Time')\n",
    "    fig.tight_layout(pad = 0.3)\n",
    "    fig.savefig(f'PLOTS/Charge/Last/{p}_last.png')"
   ]
  },
  {
   "cell_type": "markdown",
   "id": "d699ce5f",
   "metadata": {},
   "source": [
    "# DISCHARGE ALL CYCLES"
   ]
  },
  {
   "cell_type": "code",
   "execution_count": 37,
   "id": "3f24c66f",
   "metadata": {},
   "outputs": [],
   "source": [
    "params = ['Voltage_measured', 'Current_measured', 'Temperature_measured', 'Current_load', 'Voltage_load']\n",
    "\n",
    "for param in params:\n",
    "    fig, axs = plt.subplots((len(bs) + 1) // 2, 2)\n",
    "    for i in range(len(bs)):\n",
    "        for j in range(datas[i].size):\n",
    "            if types[i][j] == 'discharge':\n",
    "                if i % 2 == 0:\n",
    "                    axs[i // 2, 0].plot(datas[i][j]['Time'][0][0][0], datas[i][j][param][0][0][0], 'x')\n",
    "                    axs[i // 2, 0].set_title(f'Battery: {bs[i]}')\n",
    "                else:\n",
    "                    axs[i // 2, 1].plot(datas[i][j]['Time'][0][0][0], datas[i][j][param][0][0][0])\n",
    "                    axs[i // 2, 1].set_title(f'Battery: {bs[i]}')\n",
    "    for ax in axs.flat:\n",
    "        ax.set(ylabel = param, xlabel = 'Time')\n",
    "    fig.tight_layout(pad = 0.3)\n",
    "    fig.savefig(f'PLOTS/Discharge/All/{param}_all.png')\n",
    "    \n",
    "fig, axs = plt.subplots((len(bs) + 1) // 2, 2)\n",
    "for i in range(len(bs)):\n",
    "    cap = []\n",
    "    cycle = []\n",
    "    for j in range(datas[i].size):\n",
    "        if types[i][j] == 'discharge':\n",
    "            cap.append(datas[i][j]['Capacity'][0][0][0][0])\n",
    "            cycle.append(j)\n",
    "    if i % 2 == 0:\n",
    "        axs[i // 2, 0].plot(cycle, cap)\n",
    "        axs[i // 2, 0].set_title(f'Battery: {bs[i]}')\n",
    "    else:\n",
    "        axs[i // 2, 1].plot(cycle, cap)\n",
    "        axs[i // 2, 1].set_title(f'Battery: {bs[i]}')\n",
    "        \n",
    "    for ax in axs.flat:\n",
    "        ax.set(ylabel = 'Capacity', xlabel = 'Cycles')\n",
    "fig.tight_layout(pad = 0.3)\n",
    "fig.savefig(f'PLOTS/Discharge/Capacity_Line.png')"
   ]
  },
  {
   "cell_type": "markdown",
   "id": "a0a20247",
   "metadata": {},
   "source": [
    "# DISCHARGE FIRST AND LAST CYCLES"
   ]
  },
  {
   "cell_type": "code",
   "execution_count": 38,
   "id": "9e1a3e2b",
   "metadata": {},
   "outputs": [],
   "source": [
    "for p in params:\n",
    "    \n",
    "    # Printing first cycles\n",
    "    \n",
    "    fig, axs = plt.subplots((len(bs) + 1) // 2, 2)\n",
    "    param = p\n",
    "    for i in range(len(bs)):\n",
    "        for j in range(20):\n",
    "            if types[i][j] == 'discharge':\n",
    "                if i % 2 == 0:\n",
    "                    axs[i // 2, 0].plot(datas[i][j]['Time'][0][0][0], datas[i][j][param][0][0][0], label = f'{j + 1}')\n",
    "                    axs[i // 2, 0].set_title(f'Battery: {bs[i]}')\n",
    "                    axs[i // 2, 0].legend()\n",
    "                else:\n",
    "                    axs[i // 2, 1].plot(datas[i][j]['Time'][0][0][0], datas[i][j][param][0][0][0], label = f'{j + 1}')\n",
    "                    axs[i // 2, 1].set_title(f'Battery: {bs[i]}')\n",
    "                    axs[i // 2, 1].legend()\n",
    "    for ax in axs.flat:\n",
    "        ax.set(ylabel = param, xlabel = 'Time')\n",
    "    fig.tight_layout(pad = 0.3)\n",
    "    fig.savefig(f'PLOTS/Discharge/First/{p}_first.png')\n",
    "    \n",
    "    # Printing last cycles\n",
    "\n",
    "    fig, axs = plt.subplots((len(bs) + 1) // 2, 2)\n",
    "    for i in range(len(bs)):\n",
    "        for j in range(datas[i].size - 20, datas[i].size):\n",
    "            if types[i][j] == 'discharge':\n",
    "                if i % 2 == 0:\n",
    "                    axs[i // 2, 0].plot(datas[i][j]['Time'][0][0][0], datas[i][j][param][0][0][0], label = f'{j + 1}')\n",
    "                    axs[i // 2, 0].set_title(f'Battery: {bs[i]}')\n",
    "                    axs[i // 2, 0].legend()\n",
    "                else:\n",
    "                    axs[i // 2, 1].plot(datas[i][j]['Time'][0][0][0], datas[i][j][param][0][0][0], label = f'{j + 1}')\n",
    "                    axs[i // 2, 1].set_title(f'Battery: {bs[i]}')\n",
    "                    axs[i // 2, 1].legend()\n",
    "\n",
    "    for ax in axs.flat:\n",
    "        ax.set(ylabel = param, xlabel = 'Time')\n",
    "    fig.tight_layout(pad = 0.3)\n",
    "    fig.savefig(f'PLOTS/Discharge/Last/{p}_last.png')"
   ]
  },
  {
   "cell_type": "markdown",
   "id": "0e7b5794",
   "metadata": {},
   "source": [
    "# REGRESSION"
   ]
  },
  {
   "cell_type": "code",
   "execution_count": 39,
   "id": "f9581382",
   "metadata": {},
   "outputs": [],
   "source": [
    "from pprint import pprint\n",
    "\n",
    "Cycles = {}\n",
    "params = ['Temperature_measured', 'Voltage_measured', 'Voltage_load', 'Time']\n",
    "\n",
    "for i in range(len(bs)):\n",
    "    Cycles[bs[i]] = {}\n",
    "    Cycles[bs[i]]['count'] = 168 # This is true for battery B0005, 06, 07\n",
    "    for param in params:\n",
    "        Cycles[bs[i]][param] = []\n",
    "        for j in range(datas[i].size):\n",
    "            if types[i][j] == 'discharge':\n",
    "                Cycles[bs[i]][param].append(datas[i][j][param][0][0][0])\n",
    "        \n",
    "    cap = []\n",
    "    for j in range(datas[i].size):\n",
    "        if types[i][j] == 'discharge':\n",
    "            cap.append(datas[i][j]['Capacity'][0][0][0][0])\n",
    "    Cycles[bs[i]]['Capacity'] = np.array(cap)"
   ]
  },
  {
   "cell_type": "markdown",
   "id": "09e613cd",
   "metadata": {},
   "source": [
    "# FEATURE EXTRACTION"
   ]
  },
  {
   "cell_type": "code",
   "execution_count": 40,
   "id": "3bd5285b",
   "metadata": {},
   "outputs": [],
   "source": [
    "## CRITICAL TIME POINTS FOR A CYCLE\n",
    "## We will only these critical points for furthur training\n",
    "\n",
    "## TEMPERATURE_MEASURED\n",
    "## => Time at highest temperature\n",
    "\n",
    "## VOLTAGE_MEASURED\n",
    "## => Time at lowest Voltage\n",
    "\n",
    "## VOLTAGE_LOAD\n",
    "## => First time it drops below 1 volt after 1500 time\n",
    "\n",
    "\n",
    "def getTemperatureMeasuredCritical(tm, time):\n",
    "    high = 0\n",
    "    critical = 0\n",
    "    for i in range(len(tm)):\n",
    "        if (tm[i] > high):\n",
    "            high = tm[i]\n",
    "            critical = time[i]\n",
    "    return critical\n",
    "\n",
    "def getVoltageMeasuredCritical(vm, time):\n",
    "    low = 1e9\n",
    "    critical = 0\n",
    "    for i in range(len(vm)):\n",
    "        if (vm[i] < low):\n",
    "            low = vm[i]\n",
    "            critical = time[i]\n",
    "    return critical\n",
    "\n",
    "def getVoltageLoadCritical(vl, time):\n",
    "    for i in range(len(vl)):\n",
    "        if (time[i] > 1500 and vl[i] < 1):\n",
    "            return time[i]\n",
    "    return -1"
   ]
  },
  {
   "cell_type": "code",
   "execution_count": 41,
   "id": "c0960757",
   "metadata": {},
   "outputs": [
    {
     "name": "stdout",
     "output_type": "stream",
     "text": [
      "Temperature_Measured Critical points\n",
      "First Cycle:\t3366.781\n",
      "100th Cycle:\t2682.156\n",
      "Last Cycle:\t2393.578\n"
     ]
    }
   ],
   "source": [
    "# First Cycle\n",
    "f = getTemperatureMeasuredCritical(Cycles[bs[0]]['Temperature_measured'][0], Cycles[bs[0]]['Time'][0])\n",
    "\n",
    "# 100th Cycle\n",
    "m = getTemperatureMeasuredCritical(Cycles[bs[0]]['Temperature_measured'][100], Cycles[bs[0]]['Time'][100])\n",
    "\n",
    "# Last Cycle\n",
    "l = getTemperatureMeasuredCritical(Cycles[bs[0]]['Temperature_measured'][167], Cycles[bs[0]]['Time'][167])\n",
    "\n",
    "print(f'Temperature_Measured Critical points')\n",
    "print(f'First Cycle:\\t{f}')\n",
    "print(f'100th Cycle:\\t{m}')\n",
    "print(f'Last Cycle:\\t{l}')\n",
    "\n",
    "## Conclusion\n",
    "## !!BATTERY GET HOT QUICKER as they AGE!!"
   ]
  },
  {
   "cell_type": "code",
   "execution_count": 42,
   "id": "03dcccef",
   "metadata": {},
   "outputs": [
    {
     "name": "stdout",
     "output_type": "stream",
     "text": [
      "Voltage_measured Critical points\n",
      "First Cycle:\t3346.937\n",
      "100th Cycle:\t2662.828\n",
      "Last Cycle:\t2383.953\n"
     ]
    }
   ],
   "source": [
    "# First Cycle\n",
    "f = getVoltageMeasuredCritical(Cycles[bs[0]]['Voltage_measured'][0], Cycles[bs[0]]['Time'][0])\n",
    "\n",
    "# 100th Cycle\n",
    "m = getVoltageMeasuredCritical(Cycles[bs[0]]['Voltage_measured'][100], Cycles[bs[0]]['Time'][100])\n",
    "\n",
    "# Last Cycle\n",
    "l = getVoltageMeasuredCritical(Cycles[bs[0]]['Voltage_measured'][167], Cycles[bs[0]]['Time'][167])\n",
    "\n",
    "print(f'Voltage_measured Critical points')\n",
    "print(f'First Cycle:\\t{f}')\n",
    "print(f'100th Cycle:\\t{m}')\n",
    "print(f'Last Cycle:\\t{l}')\n",
    "\n",
    "## Conclusion\n",
    "## !!VOLTAGE HOLDS FOR LESS TIME as they AGE!!"
   ]
  },
  {
   "cell_type": "code",
   "execution_count": 43,
   "id": "9e79986c",
   "metadata": {},
   "outputs": [
    {
     "name": "stdout",
     "output_type": "stream",
     "text": [
      "Voltage_load Critical points\n",
      "First Cycle:\t3366.781\n",
      "100th Cycle:\t2672.515\n",
      "Last Cycle:\t2393.578\n"
     ]
    }
   ],
   "source": [
    "# First Cycle\n",
    "f = getVoltageLoadCritical(Cycles[bs[0]]['Voltage_load'][0], Cycles[bs[0]]['Time'][0])\n",
    "\n",
    "# 100th Cycle\n",
    "m = getVoltageLoadCritical(Cycles[bs[0]]['Voltage_load'][100], Cycles[bs[0]]['Time'][100])\n",
    "\n",
    "# Last Cycle\n",
    "l = getVoltageLoadCritical(Cycles[bs[0]]['Voltage_load'][167], Cycles[bs[0]]['Time'][167])\n",
    "\n",
    "print(f'Voltage_load Critical points')\n",
    "print(f'First Cycle:\\t{f}')\n",
    "print(f'100th Cycle:\\t{m}')\n",
    "print(f'Last Cycle:\\t{l}')\n",
    "\n",
    "## Conclusion\n",
    "## !!VOLTAGE HOLDS FOR LESS TIME as they AGE!!"
   ]
  },
  {
   "cell_type": "code",
   "execution_count": 44,
   "id": "79175a1f",
   "metadata": {},
   "outputs": [],
   "source": [
    "temperature_measured = []\n",
    "voltage_measured = []\n",
    "voltage_load = []\n",
    "capacity = Cycles[bs[0]]['Capacity']\n",
    "\n",
    "for i in range(Cycles[bs[0]]['count']):\n",
    "    temperature_measured.append(getTemperatureMeasuredCritical(Cycles[bs[0]]['Temperature_measured'][i], Cycles[bs[0]]['Time'][i]))\n",
    "    voltage_measured.append(getVoltageMeasuredCritical(Cycles[bs[0]]['Voltage_measured'][i], Cycles[bs[0]]['Time'][i]))\n",
    "    voltage_load.append(getVoltageLoadCritical(Cycles[bs[0]]['Voltage_load'][i], Cycles[bs[0]]['Time'][i]))"
   ]
  },
  {
   "cell_type": "code",
   "execution_count": 45,
   "id": "cccb5aa8",
   "metadata": {},
   "outputs": [],
   "source": [
    "## Plotting (Critical Points) v/s (Cycles)\n",
    "\n",
    "fig, axs = plt.subplots(2, 2)\n",
    "axs[0, 0].plot(range(1, len(temperature_measured) + 1), temperature_measured)\n",
    "axs[0, 0].set(ylabel = 'Critical Points for TM', xlabel = 'Cycle')\n",
    "\n",
    "axs[0, 1].plot(range(1, len(voltage_measured) + 1), voltage_measured)\n",
    "axs[0, 1].set(ylabel = 'Critical Points for VM', xlabel = 'Cycle')\n",
    "\n",
    "axs[1, 0].plot(range(1, len(voltage_load) + 1), voltage_load)\n",
    "axs[1, 0].set(ylabel = 'Critical Points for VL', xlabel = 'Cycle')\n",
    "\n",
    "axs[1, 1].plot(range(1, len(voltage_measured) + 1), capacity)\n",
    "axs[1, 1].set(ylabel = 'Capacity', xlabel = 'Cycle')\n",
    "\n",
    "fig.tight_layout(pad = 0.3)\n",
    "fig.savefig(f'PLOTS/Critical_Values.png')"
   ]
  },
  {
   "cell_type": "markdown",
   "id": "4895527d",
   "metadata": {},
   "source": [
    "# TRAINING REGRESSION MODEL"
   ]
  },
  {
   "cell_type": "code",
   "execution_count": 46,
   "id": "2aa67c32",
   "metadata": {},
   "outputs": [
    {
     "name": "stdout",
     "output_type": "stream",
     "text": [
      "Average Difference Between Predicted and Real Capacities: 0.0001504458509620274\n",
      "Accuracy: 99.9903768373228\n"
     ]
    }
   ],
   "source": [
    "X = []\n",
    "for i in range(Cycles[bs[0]]['count']):\n",
    "    X.append(np.array([temperature_measured[i], voltage_measured[i], voltage_load[i]]))\n",
    "X = np.array(X)\n",
    "y = np.array(capacity)\n",
    "\n",
    "from sklearn.model_selection import train_test_split\n",
    "X_train, X_test, y_train, y_test = train_test_split(X, y, test_size = 0.25, random_state = 0)\n",
    "\n",
    "from sklearn.linear_model import LinearRegression\n",
    "regressor = LinearRegression()\n",
    "regressor.fit(X_train, y_train)\n",
    "\n",
    "y_pred = regressor.predict(X_test)\n",
    "\n",
    "diff = 0\n",
    "total = 0\n",
    "for i in range(len(y_test)):\n",
    "    diff += abs(y_test[i] - y_pred[i])\n",
    "    total += y_test[i]\n",
    "diff /= len(y_test)\n",
    "total /= len(y_test)\n",
    "accuracy = ((total - diff) / total) * 100\n",
    "print(f'Average Difference Between Predicted and Real Capacities: {diff}')\n",
    "print(f'Accuracy: {accuracy}')"
   ]
  },
  {
   "cell_type": "markdown",
   "id": "9119ebd8",
   "metadata": {},
   "source": [
    "# Regression Model 2"
   ]
  },
  {
   "cell_type": "code",
   "execution_count": 47,
   "id": "51606b92",
   "metadata": {},
   "outputs": [],
   "source": [
    "bs = [\n",
    "    'B0005',\n",
    "    'B0006',\n",
    "    'B0007',\n",
    "]\n",
    "\n",
    "temperature_measured = []\n",
    "voltage_measured = []\n",
    "voltage_load = []\n",
    "capacity = []\n",
    "\n",
    "for b in bs:\n",
    "    for c in Cycles[b]['Capacity']:\n",
    "        capacity.append(c)\n",
    "\n",
    "for _ in range(len(bs)):\n",
    "    for i in range(Cycles[bs[_]]['count']):\n",
    "        temperature_measured.append(getTemperatureMeasuredCritical(Cycles[bs[_]]['Temperature_measured'][i], Cycles[bs[_]]['Time'][i]))\n",
    "        voltage_measured.append(getVoltageMeasuredCritical(Cycles[bs[_]]['Voltage_measured'][i], Cycles[bs[_]]['Time'][i]))\n",
    "        voltage_load.append(getVoltageLoadCritical(Cycles[bs[_]]['Voltage_load'][i], Cycles[bs[_]]['Time'][i]))"
   ]
  },
  {
   "cell_type": "markdown",
   "id": "17be915f",
   "metadata": {},
   "source": [
    "# TRAINING THE MODEL"
   ]
  },
  {
   "cell_type": "code",
   "execution_count": 48,
   "id": "3340bd51",
   "metadata": {},
   "outputs": [
    {
     "name": "stdout",
     "output_type": "stream",
     "text": [
      "Average Difference Between Predicted and Real Capacities: 0.013404734961093146\n",
      "Accuracy: 99.15812921489568\n"
     ]
    }
   ],
   "source": [
    "X = []\n",
    "for i in range(len(temperature_measured)):\n",
    "    X.append(np.array([temperature_measured[i], voltage_measured[i], voltage_load[i]]))\n",
    "X = np.array(X)\n",
    "y = np.array(capacity)\n",
    "\n",
    "from sklearn.model_selection import train_test_split\n",
    "X_train, X_test, y_train, y_test = train_test_split(X, y, test_size = 0.25, random_state = 0)\n",
    "\n",
    "regressor = LinearRegression()\n",
    "regressor.fit(X_train, y_train)\n",
    "\n",
    "y_pred = regressor.predict(X_test)\n",
    "diff = 0\n",
    "total = 0\n",
    "for i in range(len(y_test)):\n",
    "    diff += abs(y_test[i] - y_pred[i])\n",
    "    total += y_test[i]\n",
    "diff /= len(y_test)\n",
    "total /= len(y_test)\n",
    "accuracy = ((total - diff) / total) * 100\n",
    "print(f'Average Difference Between Predicted and Real Capacities: {diff}')\n",
    "print(f'Accuracy: {accuracy}')"
   ]
  },
  {
   "cell_type": "code",
   "execution_count": null,
   "id": "c952b363",
   "metadata": {},
   "outputs": [],
   "source": []
  }
 ],
 "metadata": {
  "kernelspec": {
   "display_name": "Python 3 (ipykernel)",
   "language": "python",
   "name": "python3"
  },
  "language_info": {
   "codemirror_mode": {
    "name": "ipython",
    "version": 3
   },
   "file_extension": ".py",
   "mimetype": "text/x-python",
   "name": "python",
   "nbconvert_exporter": "python",
   "pygments_lexer": "ipython3",
   "version": "3.9.6"
  }
 },
 "nbformat": 4,
 "nbformat_minor": 5
}
